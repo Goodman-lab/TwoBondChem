{
 "cells": [
  {
   "cell_type": "code",
   "execution_count": 1,
   "id": "4f868899",
   "metadata": {},
   "outputs": [],
   "source": [
    "import os\n",
    "import sys\n",
    "sys.path.insert(1, './model_evaluation/')\n",
    "import evaluation as ev\n",
    "import numpy as np\n",
    "import pandas as pd"
   ]
  },
  {
   "cell_type": "code",
   "execution_count": 2,
   "id": "b065fcee",
   "metadata": {},
   "outputs": [
    {
     "data": {
      "text/plain": [
       "['cyclo_2b+']"
      ]
     },
     "execution_count": 2,
     "metadata": {},
     "output_type": "execute_result"
    }
   ],
   "source": [
    "path = './'\n",
    "all_dir_ls=[name for name in os.listdir(path)] \n",
    "keywords =['2b','1b']\n",
    "dir_ls=[]\n",
    "\n",
    "for i in all_dir_ls:\n",
    "    for l in keywords:\n",
    "        if l in i:\n",
    "            dir_ls.append(i)\n",
    "sdir_ls=sorted(dir_ls)\n",
    "sdir_ls"
   ]
  },
  {
   "cell_type": "code",
   "execution_count": null,
   "id": "f0f70fe9",
   "metadata": {},
   "outputs": [],
   "source": []
  },
  {
   "cell_type": "code",
   "execution_count": 3,
   "id": "a5b27f9b",
   "metadata": {},
   "outputs": [],
   "source": [
    "\n",
    "ev_result_df_ls=[]\n",
    "\n",
    "for idx in range(len(sdir_ls)):\n",
    "    \n",
    "    output_file_ls=sorted([path+sdir_ls[idx]+'/'+name for name in os.listdir(path+sdir_ls[idx]) if name[0]!='.'])\n",
    "\n",
    "    result=ev.comp_evaluation(output_file_ls)\n",
    "\n",
    "    column_ls=result.columns.tolist()[1:]\n",
    "\n",
    "\n",
    "    result_dict={'file':[sdir_ls[idx]]}\n",
    "\n",
    "    for c in column_ls:\n",
    "\n",
    "        mean_v=round(np.mean(result[c])*100,1)\n",
    "        std_v=round(np.std(result[c])*100,1)\n",
    "\n",
    "        report=str(mean_v)+'±'+str(std_v)+'%'\n",
    "\n",
    "        result_dict[c]=[report]\n",
    "        \n",
    "    ev_result_df_ls.append(pd.DataFrame(result_dict))\n",
    "    "
   ]
  },
  {
   "cell_type": "code",
   "execution_count": 4,
   "id": "d0288b5f",
   "metadata": {},
   "outputs": [],
   "source": [
    "full_result_df=pd.concat(ev_result_df_ls)"
   ]
  },
  {
   "cell_type": "code",
   "execution_count": 5,
   "id": "7596f2bf",
   "metadata": {},
   "outputs": [
    {
     "data": {
      "text/html": [
       "<div>\n",
       "<style scoped>\n",
       "    .dataframe tbody tr th:only-of-type {\n",
       "        vertical-align: middle;\n",
       "    }\n",
       "\n",
       "    .dataframe tbody tr th {\n",
       "        vertical-align: top;\n",
       "    }\n",
       "\n",
       "    .dataframe thead th {\n",
       "        text-align: right;\n",
       "    }\n",
       "</style>\n",
       "<table border=\"1\" class=\"dataframe\">\n",
       "  <thead>\n",
       "    <tr style=\"text-align: right;\">\n",
       "      <th></th>\n",
       "      <th>file</th>\n",
       "      <th>accuracy</th>\n",
       "      <th>recall</th>\n",
       "      <th>precision</th>\n",
       "      <th>no_fault</th>\n",
       "      <th>no_fault1</th>\n",
       "      <th>n_fn</th>\n",
       "    </tr>\n",
       "  </thead>\n",
       "  <tbody>\n",
       "    <tr>\n",
       "      <th>0</th>\n",
       "      <td>cyclo_2b+</td>\n",
       "      <td>99.6±0.3%</td>\n",
       "      <td>96.5±3.1%</td>\n",
       "      <td>98.8±1.4%</td>\n",
       "      <td>82.8±12.7%</td>\n",
       "      <td>96.9±4.0%</td>\n",
       "      <td>86.2±11.6%</td>\n",
       "    </tr>\n",
       "  </tbody>\n",
       "</table>\n",
       "</div>"
      ],
      "text/plain": [
       "        file   accuracy     recall  precision    no_fault  no_fault1  \\\n",
       "0  cyclo_2b+  99.6±0.3%  96.5±3.1%  98.8±1.4%  82.8±12.7%  96.9±4.0%   \n",
       "\n",
       "         n_fn  \n",
       "0  86.2±11.6%  "
      ]
     },
     "execution_count": 5,
     "metadata": {},
     "output_type": "execute_result"
    }
   ],
   "source": [
    "full_result_df"
   ]
  },
  {
   "cell_type": "code",
   "execution_count": null,
   "id": "ce67c9ec",
   "metadata": {},
   "outputs": [],
   "source": []
  }
 ],
 "metadata": {
  "kernelspec": {
   "display_name": "Python 3 (ipykernel)",
   "language": "python",
   "name": "python3"
  },
  "language_info": {
   "codemirror_mode": {
    "name": "ipython",
    "version": 3
   },
   "file_extension": ".py",
   "mimetype": "text/x-python",
   "name": "python",
   "nbconvert_exporter": "python",
   "pygments_lexer": "ipython3",
   "version": "3.8.12"
  }
 },
 "nbformat": 4,
 "nbformat_minor": 5
}
